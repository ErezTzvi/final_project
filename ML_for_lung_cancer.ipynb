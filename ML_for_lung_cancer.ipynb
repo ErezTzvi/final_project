{
 "cells": [
  {
   "cell_type": "code",
   "execution_count": null,
   "metadata": {},
   "outputs": [],
   "source": [
    "import pandas as pd\n",
    "import numpy as np\n",
    "import random\n",
    "import scipy.stats\n",
    "import statsmodels.stats.multitest\n",
    "import matplotlib.pyplot as plt\n",
    "import matplotlib\n",
    "import seaborn as sns\n",
    "from sklearn.model_selection import train_test_split\n",
    "from sklearn.model_selection import KFold\n",
    "from sklearn.naive_bayes import GaussianNB\n",
    "from sklearn.metrics import confusion_matrix\n",
    "from sklearn.preprocessing import normalize\n",
    "from sklearn.decomposition import PCA\n",
    "import GEOparse\n",
    "import os\n",
    "import math\n",
    "import sklearn.cluster"
   ]
  },
  {
   "cell_type": "code",
   "execution_count": null,
   "metadata": {},
   "outputs": [],
   "source": [
    "plt.style.use('ggplot')\n",
    "matplotlib.rcParams['figure.figsize'] = (15,10)"
   ]
  },
  {
   "cell_type": "markdown",
   "metadata": {},
   "source": [
    "## preparing the data - reading the dataframe, normalizing the values and cleaning NAs"
   ]
  },
  {
   "cell_type": "code",
   "execution_count": null,
   "metadata": {},
   "outputs": [],
   "source": [
    "raw_data = GEOparse.get_GEO(filepath = \"GDS2771.soft\" , silent = True) "
   ]
  },
  {
   "cell_type": "markdown",
   "metadata": {},
   "source": [
    "read gene expression data (file should be save in the same directory as the notebook).\n",
    "Analysis of large airway epithelial cells from cigarette smokers without cancer, \n",
    "with cancer, and with suspect lung cancer. \n",
    "We would like to try and use the gene expression values to build a model that\n",
    "predicts if a smoker has lung cancer or not."
   ]
  },
  {
   "cell_type": "code",
   "execution_count": null,
   "metadata": {},
   "outputs": [],
   "source": [
    "all_data = raw_data.table.set_index('ID_REF')\n",
    "all_data.shape"
   ]
  },
  {
   "cell_type": "markdown",
   "metadata": {},
   "source": [
    "Data has 193 patients and 22283 gene expression values per patient.  "
   ]
  },
  {
   "cell_type": "code",
   "execution_count": null,
   "metadata": {},
   "outputs": [],
   "source": [
    "data = all_data.copy().dropna()\n",
    "cancer_stat = raw_data.columns['disease state']\n",
    "identifier = data['IDENTIFIER']\n",
    "data = data.drop('IDENTIFIER', axis=1)"
   ]
  },
  {
   "cell_type": "code",
   "execution_count": null,
   "metadata": {},
   "outputs": [],
   "source": [
    "data = pd.DataFrame(normalize(data), index = data.index, columns = data.columns ) # normalize the gene expression values before the prediction"
   ]
  },
  {
   "cell_type": "code",
   "execution_count": null,
   "metadata": {},
   "outputs": [],
   "source": [
    "data.shape # size of the data (gene expression values * patients) after clean up"
   ]
  },
  {
   "cell_type": "markdown",
   "metadata": {},
   "source": [
    "# statistics\n",
    "We would like to see if in general, there are genes that are differentially expressed between patient with and without cancer. To do so, we will run a t-test with the gene expression values between the two groups (cancer / no-cancer).\n",
    "We will store the p_values and the coefficients (for over and under expression in the cancer group) in a dataframe."
   ]
  },
  {
   "cell_type": "code",
   "execution_count": null,
   "metadata": {},
   "outputs": [],
   "source": [
    "results = pd.DataFrame(index = data.index,columns = [\"t_test_cancer_overexpressed\",\"t_test_cancer_underexpressed\"])\n",
    "cancer_data = data[[data.columns[i] for i in range(192) if cancer_stat[i]==\"cancer\"]]\n",
    "nocancer_data = data[[data.columns[i] for i in range(192) if cancer_stat[i]==\"no cancer\"]]\n",
    "for i in data.index:\n",
    "    t_coef,t_pval = scipy.stats.ttest_ind(cancer_data.loc[i],nocancer_data.loc[i])\n",
    "    t_pval = t_pval/2\n",
    "    if t_coef<0:\n",
    "        t_pval = 1-t_pval\n",
    "    results.at[i,\"t_test_cancer_overexpressed\"] = t_pval\n",
    "    results.at[i,\"t_test_cancer_underexpressed\"] = 1-t_pval"
   ]
  },
  {
   "cell_type": "code",
   "execution_count": null,
   "metadata": {},
   "outputs": [],
   "source": [
    "t_over = (results['t_test_cancer_overexpressed'] < 0.05).sum()\n",
    "t_under = (results['t_test_cancer_underexpressed'] < 0.05).sum()\n",
    "print('t_test overexpressed: {} \\nt_test underexpressed: {}'.format(t_over, t_under))"
   ]
  },
  {
   "cell_type": "markdown",
   "metadata": {},
   "source": [
    "We found that 3831 genes are overexpressed in the cancer group, and 3335 genes are underexpressed in the cancer group.\n",
    "Before correction for multiple testing."
   ]
  },
  {
   "cell_type": "code",
   "execution_count": null,
   "metadata": {},
   "outputs": [],
   "source": [
    "fig,ax = plt.subplots()\n",
    "sns.lineplot(x = np.sort(np.random.random(data.shape[0])), y = [i for i in range(data.shape[0])],ax=ax,label = \"expected p_values\")\n",
    "sns.lineplot(x = results[\"t_test_cancer_overexpressed\"].sort_values(),y = [i for i in range(data.shape[0])],ax=ax,label = \"t_test p_values\")\n",
    "ax.set_title(\"cancer overexpressed - expected vs. observed p values\")"
   ]
  },
  {
   "cell_type": "markdown",
   "metadata": {},
   "source": [
    "We can see that the p-values we got (blue) are different than what we would get if there would be no difference in gene expression profiles between patiens with and without cancer.\n",
    "Looks promising for our future classifier! "
   ]
  },
  {
   "cell_type": "code",
   "execution_count": null,
   "metadata": {
    "scrolled": true
   },
   "outputs": [],
   "source": [
    "t_fdr = statsmodels.stats.multitest.multipletests(results[\"t_test_cancer_overexpressed\"], method='fdr_bh')[1]\n",
    "for i in [0.1,0.05,0.01,0.001]:\n",
    "    print (\"T_test significant at FDR = {}: {} genes.\".format(str(i),str((t_fdr<i).sum())))"
   ]
  },
  {
   "cell_type": "markdown",
   "metadata": {},
   "source": [
    "See above # significant tests <b>after correcting for multiple testing</b>. Still many significant tests! meaning that the difference between the groups is not random!\n",
    "\n",
    "Next, we want to ask if some genes correlate (are expressed together) within the cancer class. We will compute correlations between each pair, store the p-values, and correct for multiple testing.\n",
    "We will do it for the 50 most over/under expressed genes in the cancer group."
   ]
  },
  {
   "cell_type": "code",
   "execution_count": null,
   "metadata": {},
   "outputs": [],
   "source": [
    "D = list(results.sort_values(\"t_test_cancer_overexpressed\").index[0:50]) +list(results.sort_values(\"t_test_cancer_underexpressed\").index[0:50])"
   ]
  },
  {
   "cell_type": "code",
   "execution_count": null,
   "metadata": {},
   "outputs": [],
   "source": [
    "corrs= pd.DataFrame(index = D,columns = D)\n",
    "pval = pd.DataFrame(index = D,columns = D)\n",
    "for gene1 in D:\n",
    "    for gene2 in D:\n",
    "        if (gene1!=gene2) and (np.isnan(corrs.at[gene1,gene2])) and (np.isnan(corrs.at[gene2,gene1])):\n",
    "            corrs.at[gene1,gene2], pval.at[gene1,gene2] = scipy.stats.spearmanr(cancer_data.loc[gene1],cancer_data.loc[gene2])\n",
    "corrected_pval = statsmodels.stats.multitest.multipletests(pval.stack(),method=\"fdr_bh\")[1]"
   ]
  },
  {
   "cell_type": "code",
   "execution_count": null,
   "metadata": {},
   "outputs": [],
   "source": [
    "print('2) {} gene pairs are co-expressed within the cancer class!'.format((corrected_pval <= 0.05).sum().sum()))"
   ]
  },
  {
   "cell_type": "markdown",
   "metadata": {},
   "source": [
    "## cross validation for number of over and under expressed genes"
   ]
  },
  {
   "cell_type": "markdown",
   "metadata": {},
   "source": [
    "Next, we want to build a classifier and preform cross validation - to test if different number of over and under regulated genes that we use in the model can affect the results. To do so, we will test the accuracy parameters when taking any number from 1 to 25 of the top overexpressed and underexpressed genes for our GaussianNB classifier.\n",
    "Ideally, we would like to take a number of genes that provides as much information as possible, <b>while avoiding over fitting</b>"
   ]
  },
  {
   "cell_type": "code",
   "execution_count": null,
   "metadata": {},
   "outputs": [],
   "source": [
    "final = pd.DataFrame(index = range(1,26), columns = [\"tp\",\"tn\",\"fp\",\"fn\",\"accuracy\"])\n",
    "kf = KFold(n_splits=10,random_state=7,shuffle=True)\n",
    "for i in range(1,26):\n",
    "    indexes = list(results.sort_values(\"t_test_cancer_overexpressed\").index[0:i]) + list(results.sort_values(\"t_test_cancer_underexpressed\").index[0:i])\n",
    "    accuracies = []\n",
    "    tps = []\n",
    "    tns = []\n",
    "    fps = []\n",
    "    fns = []\n",
    "    for train_index, test_index in kf.split(data.T[cancer_stat!=\"suspect cancer\"]):\n",
    "        X_train, X_test = data.loc[indexes].T[cancer_stat!=\"suspect cancer\"].iloc[train_index], data.loc[indexes].T[cancer_stat!=\"suspect cancer\"].iloc[test_index]\n",
    "        y_train, y_test = cancer_stat[cancer_stat!=\"suspect cancer\"][train_index], cancer_stat[cancer_stat!=\"suspect cancer\"][test_index]\n",
    "        model = GaussianNB()\n",
    "        model.fit(X_train,y_train)\n",
    "        preds = model.predict(X_test)\n",
    "        con = pd.DataFrame(confusion_matrix(y_test,model.predict(X_test)),index = [\"cancer\",\"no cancer\"], columns = [\"cancer\",\"no cancer\"])\n",
    "        con.index.name = \"class\"\n",
    "        con.columns.name = \"preds\"\n",
    "        tps.append(con['cancer'][0]/(con['no cancer'][0]+con['cancer'][0]))\n",
    "        tns.append(con['no cancer'][1]/(con['no cancer'][1]+con['cancer'][1]))\n",
    "        fps.append(con['cancer'][1]/(con['no cancer'][1]+con['cancer'][1]))\n",
    "        fns.append(con['no cancer'][0]/(con['no cancer'][0]+con['cancer'][0]))\n",
    "        accuracies.append((con['cancer'][0]+con['no cancer'][1])/(con.sum()[0:2].sum()))\n",
    "    final.at[i,\"accuracy\"] = np.array(accuracies).mean()\n",
    "    final.at[i,\"tp\"] = np.array(tps).mean()\n",
    "    final.at[i,\"tn\"] = np.array(tns).mean()\n",
    "    final.at[i,\"fp\"] = np.array(fps).mean()\n",
    "    final.at[i,\"fn\"] = np.array(fns).mean()       "
   ]
  },
  {
   "cell_type": "code",
   "execution_count": null,
   "metadata": {},
   "outputs": [],
   "source": [
    "final"
   ]
  },
  {
   "cell_type": "code",
   "execution_count": null,
   "metadata": {},
   "outputs": [],
   "source": [
    "fig,ax = plt.subplots()\n",
    "\n",
    "final.plot.line(ax=ax)\n",
    "ax.set_title(\"CV - accuracy parameters as a function of over and under expressed gene # for classifier\")\n",
    "ax.set_xlabel(\"number of under and over regulated genes (each direction)\")"
   ]
  },
  {
   "cell_type": "markdown",
   "metadata": {},
   "source": [
    "As we can see, our model improves as we add genes (features) up until 12 under expressed and 12 overexpressed genes. Adding additional features after 12 genes doesn't improve the model (maybe even causes a slight overfit). This means that after selecting the 24 most regulated genes, there is no additional information that is unique to the additional genes we could add to the model.\n",
    "\n",
    "See below boxplots of the 12 most overexpressed genes in the cancer group - just as a nice visualization of the difference in expression between patients with and without cancer."
   ]
  },
  {
   "cell_type": "code",
   "execution_count": null,
   "metadata": {},
   "outputs": [],
   "source": [
    "fig,ax = plt.subplots()\n",
    "top_12 = results.sort_values(\"t_test_cancer_overexpressed\").index[0:12]\n",
    "plot_top12 = data.T[top_12]\n",
    "plot_top12[\"classes\"] = cancer_stat[cancer_stat != 'suspect cancer']\n",
    "sns.boxplot(data=pd.melt(plot_top12,\"classes\"),x=\"ID_REF\",y=\"value\",hue=\"classes\")\n",
    "ax.set_title(\"cancer overexpression, top 12 genes\")\n",
    "ax.set_ylabel(\"expression\")"
   ]
  },
  {
   "cell_type": "code",
   "execution_count": null,
   "metadata": {},
   "outputs": [],
   "source": [
    "most_genes = list(results.sort_values(\"t_test_cancer_overexpressed\").index[0:12]) + list(results.sort_values(\"t_test_cancer_underexpressed\").index[0:12])\n",
    "X_train, X_test, y_train, y_test = train_test_split(data.loc[most_genes].T[cancer_stat!=\"suspect cancer\"], cancer_stat[cancer_stat!=\"suspect cancer\"], test_size=0.2,random_state=7)\n",
    "model = GaussianNB()\n",
    "model.fit(X_train,y_train)\n",
    "preds = model.predict(X_test)"
   ]
  },
  {
   "cell_type": "code",
   "execution_count": null,
   "metadata": {},
   "outputs": [],
   "source": [
    "con = pd.DataFrame(confusion_matrix(y_train,model.predict(X_train)),index = [\"cancer\",\"no cancer\"], columns = [\"cancer\",\"no cancer\"])\n",
    "con.index.name = \"class\"\n",
    "con.columns.name = \"preds\"\n",
    "\n",
    "print(\"confusion matrix - training set\")\n",
    "\n",
    "con"
   ]
  },
  {
   "cell_type": "code",
   "execution_count": null,
   "metadata": {},
   "outputs": [],
   "source": [
    "tp = con['cancer'][0]/(con['no cancer'][0]+con['cancer'][0])\n",
    "tn = con['no cancer'][1]/(con['no cancer'][1]+con['cancer'][1])\n",
    "fp = con['cancer'][1]/(con['no cancer'][1]+con['cancer'][1])\n",
    "fn = con['no cancer'][0]/(con['no cancer'][0]+con['cancer'][0])\n",
    "accuracy = (con['cancer'][0]+con['no cancer'][1])/(con.sum()[0:2].sum())\n",
    "print('True Positive Rate: {} \\nTrue Negative Rate: {} \\nFalse Positive Rate: {} \\n\\\n",
    "False Negative Rate: {} \\nAccuracy: {}'.format(tp, tn, fp, fn, accuracy))"
   ]
  },
  {
   "cell_type": "code",
   "execution_count": null,
   "metadata": {},
   "outputs": [],
   "source": [
    "con = pd.DataFrame(confusion_matrix(y_test,model.predict(X_test)),index = [\"cancer\",\"no cancer\"], columns = [\"cancer\",\"no cancer\"])\n",
    "con.index.name = \"class\"\n",
    "con.columns.name = \"preds\"\n",
    "\n",
    "print(\"confusion matrix - testing set\")\n",
    "\n",
    "con"
   ]
  },
  {
   "cell_type": "code",
   "execution_count": null,
   "metadata": {
    "scrolled": true
   },
   "outputs": [],
   "source": [
    "tp = con['cancer'][0]/(con['no cancer'][0]+con['cancer'][0])\n",
    "tn = con['no cancer'][1]/(con['no cancer'][1]+con['cancer'][1])\n",
    "fp = con['cancer'][1]/(con['no cancer'][1]+con['cancer'][1])\n",
    "fn = con['no cancer'][0]/(con['no cancer'][0]+con['cancer'][0])\n",
    "accuracy = (con['cancer'][0]+con['no cancer'][1])/(con.sum()[0:2].sum())\n",
    "print('True Positive Rate: {} \\nTrue Negative Rate: {} \\nFalse Positive Rate: {} \\n\\\n",
    "False Negative Rate: {} \\nAccuracy: {}'.format(tp, tn, fp, fn, accuracy))"
   ]
  },
  {
   "cell_type": "markdown",
   "metadata": {},
   "source": [
    "# Not a bad classifier!!!"
   ]
  },
  {
   "cell_type": "markdown",
   "metadata": {},
   "source": [
    "## k-means and PCA\n",
    "\n",
    "lastly, we want to visually cluster the patients based on their gene expression values for the 12 most over and 12 most under expressed genes in the cancer group. We are wondering if we can run a PCA analysis and see that the groups cluster separatly based on a k-mean analysis."
   ]
  },
  {
   "cell_type": "code",
   "execution_count": null,
   "metadata": {},
   "outputs": [],
   "source": [
    "indexes = list(results.sort_values(\"t_test_cancer_overexpressed\").index[0:12]) + list(results.sort_values(\"t_test_cancer_underexpressed\").index[0:12])\n",
    "k_data = data.loc[indexes].T[cancer_stat!=\"suspect cancer\"]"
   ]
  },
  {
   "cell_type": "code",
   "execution_count": null,
   "metadata": {},
   "outputs": [],
   "source": [
    "kmeans = sklearn.cluster.KMeans(2,random_state = 7)"
   ]
  },
  {
   "cell_type": "code",
   "execution_count": null,
   "metadata": {},
   "outputs": [],
   "source": [
    "clusters = kmeans.fit_predict(k_data)"
   ]
  },
  {
   "cell_type": "code",
   "execution_count": null,
   "metadata": {},
   "outputs": [],
   "source": [
    "clusters = [\"cancer\" if i==0 else \"no cancer\" for i in clusters]"
   ]
  },
  {
   "cell_type": "code",
   "execution_count": null,
   "metadata": {},
   "outputs": [],
   "source": [
    "pca = sklearn.decomposition.PCA()"
   ]
  },
  {
   "cell_type": "code",
   "execution_count": null,
   "metadata": {},
   "outputs": [],
   "source": [
    "pcs = pca.fit(k_data)\n",
    "explained = pcs.explained_variance_ratio_\n",
    "pcs = pcs.transform(k_data)"
   ]
  },
  {
   "cell_type": "code",
   "execution_count": null,
   "metadata": {},
   "outputs": [],
   "source": [
    "plot = pd.DataFrame(index = k_data.index, columns = [\"PC1\",\"PC2\",\"cancer\",\"cluster\"])\n",
    "plot[\"PC1\"] = pcs[:,1]\n",
    "plot[\"PC2\"] = pcs[:,2]\n",
    "plot[\"cancer\"] = cancer_stat[cancer_stat!=\"suspect cancer\"]\n",
    "plot[\"cluster\"] = clusters\n",
    "plot[\"correct\"] = plot[\"cancer\"] == plot[\"cluster\"]\n",
    "fig,ax = plt.subplots()\n",
    "sns.scatterplot(data = plot, x = \"PC1\", y = \"PC2\", hue = \"cancer\" , style = \"cluster\", markers = [\",\",\"o\"] ,ax=ax)\n",
    "ax.set_xlabel(\"PC1 {}%\".format(str(round(explained[0]*100,2))))\n",
    "ax.set_ylabel(\"PC2 {}%\".format(str(round(explained[1]*100,2))))\n",
    "ax.set_title(\"PCA for gene expression - cancer state and clusters\")"
   ]
  },
  {
   "cell_type": "markdown",
   "metadata": {},
   "source": [
    "##### See above the patients plotted on 2 dimentions, based on their gene expression values. In Colors we can see if the patient has cancer, or if he/she is healthy. in the shape we can see the prediction, based on kmeans"
   ]
  },
  {
   "cell_type": "code",
   "execution_count": null,
   "metadata": {},
   "outputs": [],
   "source": [
    "fig,ax = plt.subplots()\n",
    "sns.scatterplot(data = plot, x = \"PC1\", y = \"PC2\", style = \"correct\" , color = \"black\",markers = [\"X\",\"o\"],ax=ax)\n",
    "ax.set_xlabel(\"PC1 {}%\".format(str(round(explained[0]*100,2))))\n",
    "ax.set_ylabel(\"PC2 {}%\".format(str(round(explained[1]*100,2))))\n",
    "ax.set_title(\"PCA for gene expression - {}/{} correct clustering\".format(str(plot[\"correct\"].sum()),str(plot.shape[0])))"
   ]
  },
  {
   "cell_type": "markdown",
   "metadata": {},
   "source": [
    "###### Using the PCA and k-means approach, we predicted 129 pateints correctly. Overall, the GaussianNB classifier behaved better."
   ]
  }
 ],
 "metadata": {
  "kernelspec": {
   "display_name": "Python 3",
   "language": "python",
   "name": "python3"
  },
  "language_info": {
   "codemirror_mode": {
    "name": "ipython",
    "version": 3
   },
   "file_extension": ".py",
   "mimetype": "text/x-python",
   "name": "python",
   "nbconvert_exporter": "python",
   "pygments_lexer": "ipython3",
   "version": "3.7.6"
  }
 },
 "nbformat": 4,
 "nbformat_minor": 2
}
